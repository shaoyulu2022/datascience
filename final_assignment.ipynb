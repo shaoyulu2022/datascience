{
  "metadata": {
    "language_info": {
      "codemirror_mode": {
        "name": "python",
        "version": 3
      },
      "file_extension": ".py",
      "mimetype": "text/x-python",
      "name": "python",
      "nbconvert_exporter": "python",
      "pygments_lexer": "ipython3",
      "version": "3.8"
    },
    "kernelspec": {
      "name": "python",
      "display_name": "Pyolite",
      "language": "python"
    }
  },
  "nbformat_minor": 4,
  "nbformat": 4,
  "cells": [
    {
      "cell_type": "markdown",
      "source": "# My Jupyter Notebook on IBM Watson Studio",
      "metadata": {}
    },
    {
      "cell_type": "markdown",
      "source": "<b>Shao Yu Lu</b> <br>\nresearcher",
      "metadata": {}
    },
    {
      "cell_type": "markdown",
      "source": "<I> I'm inteersted in data science because it can be work from home </I>",
      "metadata": {}
    },
    {
      "cell_type": "markdown",
      "source": "### get a^2, in here a=2",
      "metadata": {}
    },
    {
      "cell_type": "code",
      "source": "a=2\nprint(a**2)",
      "metadata": {
        "trusted": true
      },
      "execution_count": 4,
      "outputs": [
        {
          "name": "stdout",
          "text": "4\n",
          "output_type": "stream"
        }
      ]
    },
    {
      "cell_type": "markdown",
      "source": " <table style=\"width:100%\">\n    <tr>\n    <th><a href=https://jupyter.org/>Jupter notebook</a></th>\n    <th>Waston studio</th>\n    <th><img src=\"https://eduemailshop.com/wp-content/uploads/2020/08/Benefit-IBM-Watson-Studio-Desktop-Edu-Email-Shop.png\"></img></th>\n  </tr>\n  </table>",
      "metadata": {}
    },
    {
      "cell_type": "code",
      "source": "",
      "metadata": {},
      "execution_count": null,
      "outputs": []
    }
  ]
}